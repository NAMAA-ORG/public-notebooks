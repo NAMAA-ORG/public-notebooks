{
  "cells": [
    {
      "cell_type": "code",
      "execution_count": 5,
      "metadata": {
        "id": "G_rIW82BUICR"
      },
      "outputs": [],
      "source": [
        "!pip install transformers==4.49.0 qwen_vl_utils accelerate>=0.26.0 PEFT -U"
      ]
    },
    {
      "cell_type": "code",
      "execution_count": 6,
      "metadata": {
        "colab": {
          "base_uri": "https://localhost:8080/"
        },
        "id": "gjPG3Kx_Wf39",
        "outputId": "e0034749-a66d-4c64-a60c-e3be4dd733e8"
      },
      "outputs": [
        {
          "output_type": "stream",
          "name": "stdout",
          "text": [
            "Requirement already satisfied: bitsandbytes in /usr/local/lib/python3.11/dist-packages (0.46.0)\n",
            "Requirement already satisfied: torch<3,>=2.2 in /usr/local/lib/python3.11/dist-packages (from bitsandbytes) (2.6.0+cu124)\n",
            "Requirement already satisfied: numpy>=1.17 in /usr/local/lib/python3.11/dist-packages (from bitsandbytes) (2.0.2)\n",
            "Requirement already satisfied: filelock in /usr/local/lib/python3.11/dist-packages (from torch<3,>=2.2->bitsandbytes) (3.18.0)\n",
            "Requirement already satisfied: typing-extensions>=4.10.0 in /usr/local/lib/python3.11/dist-packages (from torch<3,>=2.2->bitsandbytes) (4.13.2)\n",
            "Requirement already satisfied: networkx in /usr/local/lib/python3.11/dist-packages (from torch<3,>=2.2->bitsandbytes) (3.4.2)\n",
            "Requirement already satisfied: jinja2 in /usr/local/lib/python3.11/dist-packages (from torch<3,>=2.2->bitsandbytes) (3.1.6)\n",
            "Requirement already satisfied: fsspec in /usr/local/lib/python3.11/dist-packages (from torch<3,>=2.2->bitsandbytes) (2025.3.2)\n",
            "Requirement already satisfied: nvidia-cuda-nvrtc-cu12==12.4.127 in /usr/local/lib/python3.11/dist-packages (from torch<3,>=2.2->bitsandbytes) (12.4.127)\n",
            "Requirement already satisfied: nvidia-cuda-runtime-cu12==12.4.127 in /usr/local/lib/python3.11/dist-packages (from torch<3,>=2.2->bitsandbytes) (12.4.127)\n",
            "Requirement already satisfied: nvidia-cuda-cupti-cu12==12.4.127 in /usr/local/lib/python3.11/dist-packages (from torch<3,>=2.2->bitsandbytes) (12.4.127)\n",
            "Requirement already satisfied: nvidia-cudnn-cu12==9.1.0.70 in /usr/local/lib/python3.11/dist-packages (from torch<3,>=2.2->bitsandbytes) (9.1.0.70)\n",
            "Requirement already satisfied: nvidia-cublas-cu12==12.4.5.8 in /usr/local/lib/python3.11/dist-packages (from torch<3,>=2.2->bitsandbytes) (12.4.5.8)\n",
            "Requirement already satisfied: nvidia-cufft-cu12==11.2.1.3 in /usr/local/lib/python3.11/dist-packages (from torch<3,>=2.2->bitsandbytes) (11.2.1.3)\n",
            "Requirement already satisfied: nvidia-curand-cu12==10.3.5.147 in /usr/local/lib/python3.11/dist-packages (from torch<3,>=2.2->bitsandbytes) (10.3.5.147)\n",
            "Requirement already satisfied: nvidia-cusolver-cu12==11.6.1.9 in /usr/local/lib/python3.11/dist-packages (from torch<3,>=2.2->bitsandbytes) (11.6.1.9)\n",
            "Requirement already satisfied: nvidia-cusparse-cu12==12.3.1.170 in /usr/local/lib/python3.11/dist-packages (from torch<3,>=2.2->bitsandbytes) (12.3.1.170)\n",
            "Requirement already satisfied: nvidia-cusparselt-cu12==0.6.2 in /usr/local/lib/python3.11/dist-packages (from torch<3,>=2.2->bitsandbytes) (0.6.2)\n",
            "Requirement already satisfied: nvidia-nccl-cu12==2.21.5 in /usr/local/lib/python3.11/dist-packages (from torch<3,>=2.2->bitsandbytes) (2.21.5)\n",
            "Requirement already satisfied: nvidia-nvtx-cu12==12.4.127 in /usr/local/lib/python3.11/dist-packages (from torch<3,>=2.2->bitsandbytes) (12.4.127)\n",
            "Requirement already satisfied: nvidia-nvjitlink-cu12==12.4.127 in /usr/local/lib/python3.11/dist-packages (from torch<3,>=2.2->bitsandbytes) (12.4.127)\n",
            "Requirement already satisfied: triton==3.2.0 in /usr/local/lib/python3.11/dist-packages (from torch<3,>=2.2->bitsandbytes) (3.2.0)\n",
            "Requirement already satisfied: sympy==1.13.1 in /usr/local/lib/python3.11/dist-packages (from torch<3,>=2.2->bitsandbytes) (1.13.1)\n",
            "Requirement already satisfied: mpmath<1.4,>=1.1.0 in /usr/local/lib/python3.11/dist-packages (from sympy==1.13.1->torch<3,>=2.2->bitsandbytes) (1.3.0)\n",
            "Requirement already satisfied: MarkupSafe>=2.0 in /usr/local/lib/python3.11/dist-packages (from jinja2->torch<3,>=2.2->bitsandbytes) (3.0.2)\n"
          ]
        }
      ],
      "source": [
        "!pip install -U bitsandbytes"
      ]
    },
    {
      "cell_type": "code",
      "execution_count": 7,
      "metadata": {
        "id": "gFazTHYsU3vW"
      },
      "outputs": [],
      "source": [
        "from PIL import Image\n",
        "from transformers import Qwen2VLForConditionalGeneration, AutoProcessor\n",
        "import torch\n",
        "import os\n",
        "from qwen_vl_utils import process_vision_info\n",
        "\n",
        "\n",
        "\n",
        "model_name = \"NAMAA-Space/Qari-OCR-0.2.2.1-VL-2B-Instruct\"\n",
        "model = Qwen2VLForConditionalGeneration.from_pretrained(\n",
        "                model_name,\n",
        "                torch_dtype=\"auto\",\n",
        "                device_map=\"auto\"\n",
        "            )\n",
        "processor = AutoProcessor.from_pretrained(model_name)\n",
        "max_tokens = 2000"
      ]
    },
    {
      "cell_type": "code",
      "execution_count": 8,
      "metadata": {
        "id": "djzIrebBU6JE"
      },
      "outputs": [],
      "source": [
        "from PIL import Image\n",
        "import requests\n",
        "url = \"https://paperspacearabicnlp.nyc3.digitaloceanspaces.com/samples/2.jpg\"\n",
        "image = Image.open(requests.get(url, stream=True).raw)"
      ]
    },
    {
      "cell_type": "code",
      "execution_count": 9,
      "metadata": {
        "colab": {
          "base_uri": "https://localhost:8080/"
        },
        "id": "4vOscSNjUZz8",
        "outputId": "d18aeeda-e766-4bb3-9422-d1ac68f26906"
      },
      "outputs": [
        {
          "output_type": "stream",
          "name": "stdout",
          "text": [
            "يتم الخبراء العسكريون الأمريكيون تقييم الموقف بعد عبور المصريين قناة السويس وانتهاء فعالية خط بارليف. وكانت نصيحة امريكا أن تحاول إسرائيل بكل جهد تخطى رعوس الكبارى المصرية خلال الساعات الأولى من نهار السابع من أكتوبر، وأن تقوم بتوجيه ضربة قوية لشبكة الصواريخ سام 7، وأن تتجنب القتال المباشر». والحقيقة أن هذا بالضبط ما نفذته إسرائيل يوم 7 أكتوبر ـ اليوم الثاني للم مليات ـ بعد أن استمعت إلى «النصيحة الأمريكية» وكلمة النصيحة هنا مستمارة استخدامها اليعازار حتى يتفادى كلمة «خطة أمريكية». وفى الواقع فإنها خطة عسكرية أمريكية تشتمل أمرين لتحقيق هدفين عسكريين هما: الأول: هجوم مضاد إسرائيل لتحطيم رعوس الكبارى المصرية. الثاني: توجية ضربة جوية إسرائيلية ضد شبكة الدفاع الجوى المصري لشل فماليتها . ومن الملاحظ أن الخطة العسكرية الأمريكية المقترحة لإسرائيل، تتمشى تماماً مع التخطيط السياسى الأمريكي الذي بنى ضى هذه المرحلة من الحرب على أساس أن القتال سيتطور بسرعة لصالح إسرائيل التي تُعيد الموقف إلى ما كان عليه فى وقت قِصير. وبتعبير كسنجر «إستراتيجيتنا الخاصة: انتظار إسرائيل لاستعادة وضها العسكري». * * * وفي الصباح المبكر من يوم الأحد 7 أكتوبر، بدأت المعارك فى البر والجو كما توقمناها فى القيادة العامة للقوات المسلحة طبقًا لما هو موضح فى خطة الحرب، فى هذا الصباح خاضت قواتنا سلسلة من المعارك. فقد قامت قوات الجيشين الثانى والثالث بصد هجمات العدو المضادة، وبدأت معركة «القنطرة شرق» لتحرير 370\n"
          ]
        }
      ],
      "source": [
        "\n",
        "src=\"image.png\"\n",
        "\n",
        "prompt = \"Below is the image of one page of a document, as well as some raw textual content that was previously extracted for it. Just return the plain text representation of this document as if you were reading it naturally. Do not hallucinate.\"\n",
        "image.save(src)\n",
        "\n",
        "messages = [\n",
        "    {\n",
        "        \"role\": \"user\",\n",
        "        \"content\": [\n",
        "            {\"type\": \"image\", \"image\": f\"file://{src}\"},\n",
        "            {\"type\": \"text\", \"text\": prompt},\n",
        "        ],\n",
        "    }\n",
        "]\n",
        "text = processor.apply_chat_template(\n",
        "    messages, tokenize=False, add_generation_prompt=True\n",
        ")\n",
        "image_inputs, video_inputs = process_vision_info(messages)\n",
        "inputs = processor(\n",
        "    text=[text],\n",
        "    images=image_inputs,\n",
        "    videos=video_inputs,\n",
        "    padding=True,\n",
        "    return_tensors=\"pt\",\n",
        ")\n",
        "inputs = inputs.to(\"cuda\")\n",
        "generated_ids = model.generate(**inputs, max_new_tokens=max_tokens)\n",
        "generated_ids_trimmed = [\n",
        "    out_ids[len(in_ids) :] for in_ids, out_ids in zip(inputs.input_ids, generated_ids)\n",
        "]\n",
        "output_text = processor.batch_decode(\n",
        "    generated_ids_trimmed, skip_special_tokens=True, clean_up_tokenization_spaces=False\n",
        ")[0]\n",
        "os.remove(src)\n",
        "print(output_text)\n"
      ]
    }
  ],
  "metadata": {
    "accelerator": "GPU",
    "colab": {
      "gpuType": "T4",
      "provenance": []
    },
    "kernelspec": {
      "display_name": "Python 3",
      "name": "python3"
    },
    "language_info": {
      "name": "python"
    }
  },
  "nbformat": 4,
  "nbformat_minor": 0
}